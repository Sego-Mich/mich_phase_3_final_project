{
 "cells": [
  {
   "cell_type": "markdown",
   "id": "ce14cc42",
   "metadata": {},
   "source": [
    "# Business Understanding\n",
    "\n",
    "## Project Overview\n",
    " Analysis of Vaccination Patterns from the National 2009 H1N1 Flu Survey\n",
    " \n",
    "## Business problem\n",
    "A vaccine for the H1N1 flu virus became publicly available in October 2009. In late 2009 and early 2010, the United States conducted the National 2009 H1N1 Flu Survey. This phone survey asked respondents whether they had received the H1N1 and seasonal flu vaccines, in conjunction with questions about themselves. These additional questions covered their social, economic, and demographic background, opinions on risks of illness and vaccine effectiveness, and behaviors towards mitigating transmission. A better understanding of how these characteristics are associated with personal vaccination patterns can provide guidance for future public health efforts.\n",
    " \n",
    "## Project objectives:\n",
    "## Main Objective  \n",
    "To analyze the demographic characteristics of respondents, including age, education, income, employment, and household composition.  \n",
    "\n",
    "## Specific Objectives  \n",
    "1. **Age Distribution** – Examine the age group distribution among respondents.  \n",
    "  - **Feature Used:** age_group  \n",
    "\n",
    "2. **Educational Attainment** – Analyze the levels of education across different respondents.  \n",
    "  - **Feature Used:** education  \n",
    "\n",
    "3. **Income and Employment Status** – Assess variations in income levels and employment status.  \n",
    "  - **Features Used:** income_poverty, employment_status, employment_industry, employment_occupation  \n",
    "\n",
    "4. **Household Composition** – Investigate household structure based on marital status, homeownership, and number of adults/children.  \n",
    "  - **Features Used:** marital_status, rent_or_own, household_adults, household_children  \n",
    "\n",
    "5. **Geographic Demographics** – Identify demographic variations across different regions.  \n",
    "  - **Features Used:** hhs_geo_region, census_msa  \n"
   ]
  },
  {
   "cell_type": "markdown",
   "id": "b9faaa36",
   "metadata": {},
   "source": [
    "# Data Understanding "
   ]
  },
  {
   "cell_type": "markdown",
   "id": "cc80579d",
   "metadata": {},
   "source": [
    "## Data collection\n",
    "The data for this competition comes from the National 2009 H1N1 Flu Survey (NHFS).\n",
    "\n",
    "In their own words:\n",
    "\n",
    ">The National 2009 H1N1 Flu Survey (NHFS) was sponsored by the National Center for Immunization and Respiratory Diseases (NCIRD) and conducted jointly by NCIRD and the National Center for Health Statistics (NCHS), Centers for Disease Control and Prevention (CDC). The NHFS was a list-assisted random-digit-dialing telephone survey of households, designed to monitor influenza immunization coverage in the 2009-10 season.\n",
    "\n",
    "The target population for the NHFS was all persons 6 months or older living in the United States at the time of the interview. Data from the NHFS were used to produce timely estimates of vaccination coverage rates for both the monovalent pH1N1 and trivalent seasonal influenza vaccines.\n",
    "\n",
    "The NHFS was conducted between October 2009 and June 2010. It was one-time survey designed specifically to monitor vaccination during the 2009-2010 flu season in response to the 2009 H1N1 pandemic. The CDC has other ongoing programs for annual phone surveys that continue to monitor seasonal flu vaccination."
   ]
  },
  {
   "cell_type": "code",
   "execution_count": 1,
   "id": "7b16dc63",
   "metadata": {},
   "outputs": [
    {
     "name": "stderr",
     "output_type": "stream",
     "text": [
      "C:\\anaconda\\lib\\site-packages\\pandas\\core\\arrays\\masked.py:60: UserWarning: Pandas requires version '1.3.6' or newer of 'bottleneck' (version '1.3.2' currently installed).\n",
      "  from pandas.core import (\n"
     ]
    }
   ],
   "source": [
    "import pandas as pd\n",
    "import numpy as np\n",
    "import matplotlib.pyplot as plt\n",
    "import seaborn as sns\n",
    "import warnings\n",
    "\n",
    "warnings.filterwarnings(\"ignore\")"
   ]
  },
  {
   "cell_type": "markdown",
   "id": "b1113742",
   "metadata": {},
   "source": [
    "**Loading Dataset**\n",
    "\n",
    "Features for training"
   ]
  },
  {
   "cell_type": "code",
   "execution_count": 2,
   "id": "81517e65",
   "metadata": {},
   "outputs": [],
   "source": [
    "# Features Training\n",
    "train_features_df = pd.read_csv(\"data/training_set_features.csv\")"
   ]
  },
  {
   "cell_type": "markdown",
   "id": "e5144f7c",
   "metadata": {},
   "source": [
    "Features for testing"
   ]
  },
  {
   "cell_type": "code",
   "execution_count": 3,
   "id": "f89b7d95",
   "metadata": {},
   "outputs": [],
   "source": [
    "#Features Test\n",
    "test_features_df = pd.read_csv(\"data/test_set_features.csv\")"
   ]
  },
  {
   "cell_type": "markdown",
   "id": "cc01d87a",
   "metadata": {},
   "source": [
    "Training Labels"
   ]
  },
  {
   "cell_type": "code",
   "execution_count": 4,
   "id": "eff37c5a",
   "metadata": {},
   "outputs": [],
   "source": [
    "train_labels_df = pd.read_csv(\"data/training_set_labels.csv\")"
   ]
  },
  {
   "cell_type": "markdown",
   "id": "4a3592ee",
   "metadata": {},
   "source": [
    "**training_set_features.csv**"
   ]
  },
  {
   "cell_type": "code",
   "execution_count": 5,
   "id": "354e79f9",
   "metadata": {},
   "outputs": [
    {
     "name": "stdout",
     "output_type": "stream",
     "text": [
      "<class 'pandas.core.frame.DataFrame'>\n",
      "RangeIndex: 26707 entries, 0 to 26706\n",
      "Data columns (total 36 columns):\n",
      " #   Column                       Non-Null Count  Dtype  \n",
      "---  ------                       --------------  -----  \n",
      " 0   respondent_id                26707 non-null  int64  \n",
      " 1   h1n1_concern                 26615 non-null  float64\n",
      " 2   h1n1_knowledge               26591 non-null  float64\n",
      " 3   behavioral_antiviral_meds    26636 non-null  float64\n",
      " 4   behavioral_avoidance         26499 non-null  float64\n",
      " 5   behavioral_face_mask         26688 non-null  float64\n",
      " 6   behavioral_wash_hands        26665 non-null  float64\n",
      " 7   behavioral_large_gatherings  26620 non-null  float64\n",
      " 8   behavioral_outside_home      26625 non-null  float64\n",
      " 9   behavioral_touch_face        26579 non-null  float64\n",
      " 10  doctor_recc_h1n1             24547 non-null  float64\n",
      " 11  doctor_recc_seasonal         24547 non-null  float64\n",
      " 12  chronic_med_condition        25736 non-null  float64\n",
      " 13  child_under_6_months         25887 non-null  float64\n",
      " 14  health_worker                25903 non-null  float64\n",
      " 15  health_insurance             14433 non-null  float64\n",
      " 16  opinion_h1n1_vacc_effective  26316 non-null  float64\n",
      " 17  opinion_h1n1_risk            26319 non-null  float64\n",
      " 18  opinion_h1n1_sick_from_vacc  26312 non-null  float64\n",
      " 19  opinion_seas_vacc_effective  26245 non-null  float64\n",
      " 20  opinion_seas_risk            26193 non-null  float64\n",
      " 21  opinion_seas_sick_from_vacc  26170 non-null  float64\n",
      " 22  age_group                    26707 non-null  object \n",
      " 23  education                    25300 non-null  object \n",
      " 24  race                         26707 non-null  object \n",
      " 25  sex                          26707 non-null  object \n",
      " 26  income_poverty               22284 non-null  object \n",
      " 27  marital_status               25299 non-null  object \n",
      " 28  rent_or_own                  24665 non-null  object \n",
      " 29  employment_status            25244 non-null  object \n",
      " 30  hhs_geo_region               26707 non-null  object \n",
      " 31  census_msa                   26707 non-null  object \n",
      " 32  household_adults             26458 non-null  float64\n",
      " 33  household_children           26458 non-null  float64\n",
      " 34  employment_industry          13377 non-null  object \n",
      " 35  employment_occupation        13237 non-null  object \n",
      "dtypes: float64(23), int64(1), object(12)\n",
      "memory usage: 7.3+ MB\n"
     ]
    }
   ],
   "source": [
    "train_features_df.info()"
   ]
  },
  {
   "cell_type": "markdown",
   "id": "71b8b548",
   "metadata": {},
   "source": [
    "## Numerical Columns (26)\n",
    "- respondent_id  \n",
    "- h1n1_concern  \n",
    "- h1n1_knowledge  \n",
    "- behavioral_antiviral_meds  \n",
    "- behavioral_avoidance  \n",
    "- behavioral_face_mask  \n",
    "- behavioral_wash_hands  \n",
    "- behavioral_large_gatherings  \n",
    "- behavioral_outside_home  \n",
    "- behavioral_touch_face  \n",
    "- doctor_recc_h1n1  \n",
    "- doctor_recc_seasonal  \n",
    "- chronic_med_condition  \n",
    "- child_under_6_months  \n",
    "- health_worker  \n",
    "- health_insurance  \n",
    "- opinion_h1n1_vacc_effective  \n",
    "- opinion_h1n1_risk  \n",
    "- opinion_h1n1_sick_from_vacc  \n",
    "- opinion_seas_vacc_effective  \n",
    "- opinion_seas_risk  \n",
    "- opinion_seas_sick_from_vacc  \n",
    "- household_adults  \n",
    "- household_children  \n",
    "\n",
    "## Categorical Columns (10)\n",
    "- age_group  \n",
    "- education  \n",
    "- race  \n",
    "- sex  \n",
    "- income_poverty  \n",
    "- marital_status  \n",
    "- rent_or_own  \n",
    "- employment_status  \n",
    "- hhs_geo_region  \n",
    "- census_msa  \n",
    "- employment_industry  \n",
    "- employment_occupation  \n"
   ]
  },
  {
   "cell_type": "markdown",
   "id": "6f5f061c",
   "metadata": {},
   "source": [
    "**Select the feautures**\n",
    "\n",
    "Features selected are to explore how demographic factors effect "
   ]
  },
  {
   "cell_type": "code",
   "execution_count": 6,
   "id": "af6487f4",
   "metadata": {},
   "outputs": [],
   "source": [
    "train_features_df = train_features_df[[\"respondent_id\",\"age_group\", \"education\", \"income_poverty\", \"employment_status\",\n",
    "    \"race\", \"sex\", \"marital_status\", \"rent_or_own\"]]"
   ]
  },
  {
   "cell_type": "code",
   "execution_count": 7,
   "id": "2ec117f6",
   "metadata": {},
   "outputs": [
    {
     "data": {
      "text/html": [
       "<div>\n",
       "<style scoped>\n",
       "    .dataframe tbody tr th:only-of-type {\n",
       "        vertical-align: middle;\n",
       "    }\n",
       "\n",
       "    .dataframe tbody tr th {\n",
       "        vertical-align: top;\n",
       "    }\n",
       "\n",
       "    .dataframe thead th {\n",
       "        text-align: right;\n",
       "    }\n",
       "</style>\n",
       "<table border=\"1\" class=\"dataframe\">\n",
       "  <thead>\n",
       "    <tr style=\"text-align: right;\">\n",
       "      <th></th>\n",
       "      <th>respondent_id</th>\n",
       "    </tr>\n",
       "  </thead>\n",
       "  <tbody>\n",
       "    <tr>\n",
       "      <th>count</th>\n",
       "      <td>26707.000000</td>\n",
       "    </tr>\n",
       "    <tr>\n",
       "      <th>mean</th>\n",
       "      <td>13353.000000</td>\n",
       "    </tr>\n",
       "    <tr>\n",
       "      <th>std</th>\n",
       "      <td>7709.791156</td>\n",
       "    </tr>\n",
       "    <tr>\n",
       "      <th>min</th>\n",
       "      <td>0.000000</td>\n",
       "    </tr>\n",
       "    <tr>\n",
       "      <th>25%</th>\n",
       "      <td>6676.500000</td>\n",
       "    </tr>\n",
       "    <tr>\n",
       "      <th>50%</th>\n",
       "      <td>13353.000000</td>\n",
       "    </tr>\n",
       "    <tr>\n",
       "      <th>75%</th>\n",
       "      <td>20029.500000</td>\n",
       "    </tr>\n",
       "    <tr>\n",
       "      <th>max</th>\n",
       "      <td>26706.000000</td>\n",
       "    </tr>\n",
       "  </tbody>\n",
       "</table>\n",
       "</div>"
      ],
      "text/plain": [
       "       respondent_id\n",
       "count   26707.000000\n",
       "mean    13353.000000\n",
       "std      7709.791156\n",
       "min         0.000000\n",
       "25%      6676.500000\n",
       "50%     13353.000000\n",
       "75%     20029.500000\n",
       "max     26706.000000"
      ]
     },
     "execution_count": 7,
     "metadata": {},
     "output_type": "execute_result"
    }
   ],
   "source": [
    "train_features_df.describe()"
   ]
  },
  {
   "cell_type": "code",
   "execution_count": 8,
   "id": "a45ea19f",
   "metadata": {},
   "outputs": [
    {
     "name": "stdout",
     "output_type": "stream",
     "text": [
      "<class 'pandas.core.frame.DataFrame'>\n",
      "RangeIndex: 26707 entries, 0 to 26706\n",
      "Data columns (total 9 columns):\n",
      " #   Column             Non-Null Count  Dtype \n",
      "---  ------             --------------  ----- \n",
      " 0   respondent_id      26707 non-null  int64 \n",
      " 1   age_group          26707 non-null  object\n",
      " 2   education          25300 non-null  object\n",
      " 3   income_poverty     22284 non-null  object\n",
      " 4   employment_status  25244 non-null  object\n",
      " 5   race               26707 non-null  object\n",
      " 6   sex                26707 non-null  object\n",
      " 7   marital_status     25299 non-null  object\n",
      " 8   rent_or_own        24665 non-null  object\n",
      "dtypes: int64(1), object(8)\n",
      "memory usage: 1.8+ MB\n"
     ]
    }
   ],
   "source": [
    "train_features_df.info()"
   ]
  },
  {
   "cell_type": "code",
   "execution_count": 9,
   "id": "cf281ae6",
   "metadata": {},
   "outputs": [
    {
     "data": {
      "text/html": [
       "<div>\n",
       "<style scoped>\n",
       "    .dataframe tbody tr th:only-of-type {\n",
       "        vertical-align: middle;\n",
       "    }\n",
       "\n",
       "    .dataframe tbody tr th {\n",
       "        vertical-align: top;\n",
       "    }\n",
       "\n",
       "    .dataframe thead th {\n",
       "        text-align: right;\n",
       "    }\n",
       "</style>\n",
       "<table border=\"1\" class=\"dataframe\">\n",
       "  <thead>\n",
       "    <tr style=\"text-align: right;\">\n",
       "      <th></th>\n",
       "      <th>respondent_id</th>\n",
       "      <th>age_group</th>\n",
       "      <th>education</th>\n",
       "      <th>income_poverty</th>\n",
       "      <th>employment_status</th>\n",
       "      <th>race</th>\n",
       "      <th>sex</th>\n",
       "      <th>marital_status</th>\n",
       "      <th>rent_or_own</th>\n",
       "    </tr>\n",
       "  </thead>\n",
       "  <tbody>\n",
       "    <tr>\n",
       "      <th>0</th>\n",
       "      <td>0</td>\n",
       "      <td>55 - 64 Years</td>\n",
       "      <td>&lt; 12 Years</td>\n",
       "      <td>Below Poverty</td>\n",
       "      <td>Not in Labor Force</td>\n",
       "      <td>White</td>\n",
       "      <td>Female</td>\n",
       "      <td>Not Married</td>\n",
       "      <td>Own</td>\n",
       "    </tr>\n",
       "    <tr>\n",
       "      <th>1</th>\n",
       "      <td>1</td>\n",
       "      <td>35 - 44 Years</td>\n",
       "      <td>12 Years</td>\n",
       "      <td>Below Poverty</td>\n",
       "      <td>Employed</td>\n",
       "      <td>White</td>\n",
       "      <td>Male</td>\n",
       "      <td>Not Married</td>\n",
       "      <td>Rent</td>\n",
       "    </tr>\n",
       "    <tr>\n",
       "      <th>2</th>\n",
       "      <td>2</td>\n",
       "      <td>18 - 34 Years</td>\n",
       "      <td>College Graduate</td>\n",
       "      <td>&lt;= $75,000, Above Poverty</td>\n",
       "      <td>Employed</td>\n",
       "      <td>White</td>\n",
       "      <td>Male</td>\n",
       "      <td>Not Married</td>\n",
       "      <td>Own</td>\n",
       "    </tr>\n",
       "    <tr>\n",
       "      <th>3</th>\n",
       "      <td>3</td>\n",
       "      <td>65+ Years</td>\n",
       "      <td>12 Years</td>\n",
       "      <td>Below Poverty</td>\n",
       "      <td>Not in Labor Force</td>\n",
       "      <td>White</td>\n",
       "      <td>Female</td>\n",
       "      <td>Not Married</td>\n",
       "      <td>Rent</td>\n",
       "    </tr>\n",
       "    <tr>\n",
       "      <th>4</th>\n",
       "      <td>4</td>\n",
       "      <td>45 - 54 Years</td>\n",
       "      <td>Some College</td>\n",
       "      <td>&lt;= $75,000, Above Poverty</td>\n",
       "      <td>Employed</td>\n",
       "      <td>White</td>\n",
       "      <td>Female</td>\n",
       "      <td>Married</td>\n",
       "      <td>Own</td>\n",
       "    </tr>\n",
       "  </tbody>\n",
       "</table>\n",
       "</div>"
      ],
      "text/plain": [
       "   respondent_id      age_group         education             income_poverty  \\\n",
       "0              0  55 - 64 Years        < 12 Years              Below Poverty   \n",
       "1              1  35 - 44 Years          12 Years              Below Poverty   \n",
       "2              2  18 - 34 Years  College Graduate  <= $75,000, Above Poverty   \n",
       "3              3      65+ Years          12 Years              Below Poverty   \n",
       "4              4  45 - 54 Years      Some College  <= $75,000, Above Poverty   \n",
       "\n",
       "    employment_status   race     sex marital_status rent_or_own  \n",
       "0  Not in Labor Force  White  Female    Not Married         Own  \n",
       "1            Employed  White    Male    Not Married        Rent  \n",
       "2            Employed  White    Male    Not Married         Own  \n",
       "3  Not in Labor Force  White  Female    Not Married        Rent  \n",
       "4            Employed  White  Female        Married         Own  "
      ]
     },
     "execution_count": 9,
     "metadata": {},
     "output_type": "execute_result"
    }
   ],
   "source": [
    "train_features_df.head()"
   ]
  },
  {
   "cell_type": "code",
   "execution_count": 10,
   "id": "788b85a1",
   "metadata": {},
   "outputs": [
    {
     "data": {
      "text/html": [
       "<div>\n",
       "<style scoped>\n",
       "    .dataframe tbody tr th:only-of-type {\n",
       "        vertical-align: middle;\n",
       "    }\n",
       "\n",
       "    .dataframe tbody tr th {\n",
       "        vertical-align: top;\n",
       "    }\n",
       "\n",
       "    .dataframe thead th {\n",
       "        text-align: right;\n",
       "    }\n",
       "</style>\n",
       "<table border=\"1\" class=\"dataframe\">\n",
       "  <thead>\n",
       "    <tr style=\"text-align: right;\">\n",
       "      <th></th>\n",
       "      <th>respondent_id</th>\n",
       "      <th>age_group</th>\n",
       "      <th>education</th>\n",
       "      <th>income_poverty</th>\n",
       "      <th>employment_status</th>\n",
       "      <th>race</th>\n",
       "      <th>sex</th>\n",
       "      <th>marital_status</th>\n",
       "      <th>rent_or_own</th>\n",
       "    </tr>\n",
       "  </thead>\n",
       "  <tbody>\n",
       "    <tr>\n",
       "      <th>26702</th>\n",
       "      <td>26702</td>\n",
       "      <td>65+ Years</td>\n",
       "      <td>Some College</td>\n",
       "      <td>&lt;= $75,000, Above Poverty</td>\n",
       "      <td>Not in Labor Force</td>\n",
       "      <td>White</td>\n",
       "      <td>Female</td>\n",
       "      <td>Not Married</td>\n",
       "      <td>Own</td>\n",
       "    </tr>\n",
       "    <tr>\n",
       "      <th>26703</th>\n",
       "      <td>26703</td>\n",
       "      <td>18 - 34 Years</td>\n",
       "      <td>College Graduate</td>\n",
       "      <td>&lt;= $75,000, Above Poverty</td>\n",
       "      <td>Employed</td>\n",
       "      <td>White</td>\n",
       "      <td>Male</td>\n",
       "      <td>Not Married</td>\n",
       "      <td>Rent</td>\n",
       "    </tr>\n",
       "    <tr>\n",
       "      <th>26704</th>\n",
       "      <td>26704</td>\n",
       "      <td>55 - 64 Years</td>\n",
       "      <td>Some College</td>\n",
       "      <td>NaN</td>\n",
       "      <td>NaN</td>\n",
       "      <td>White</td>\n",
       "      <td>Female</td>\n",
       "      <td>Not Married</td>\n",
       "      <td>Own</td>\n",
       "    </tr>\n",
       "    <tr>\n",
       "      <th>26705</th>\n",
       "      <td>26705</td>\n",
       "      <td>18 - 34 Years</td>\n",
       "      <td>Some College</td>\n",
       "      <td>&lt;= $75,000, Above Poverty</td>\n",
       "      <td>Employed</td>\n",
       "      <td>Hispanic</td>\n",
       "      <td>Female</td>\n",
       "      <td>Married</td>\n",
       "      <td>Rent</td>\n",
       "    </tr>\n",
       "    <tr>\n",
       "      <th>26706</th>\n",
       "      <td>26706</td>\n",
       "      <td>65+ Years</td>\n",
       "      <td>Some College</td>\n",
       "      <td>&lt;= $75,000, Above Poverty</td>\n",
       "      <td>Not in Labor Force</td>\n",
       "      <td>White</td>\n",
       "      <td>Male</td>\n",
       "      <td>Married</td>\n",
       "      <td>Own</td>\n",
       "    </tr>\n",
       "  </tbody>\n",
       "</table>\n",
       "</div>"
      ],
      "text/plain": [
       "       respondent_id      age_group         education  \\\n",
       "26702          26702      65+ Years      Some College   \n",
       "26703          26703  18 - 34 Years  College Graduate   \n",
       "26704          26704  55 - 64 Years      Some College   \n",
       "26705          26705  18 - 34 Years      Some College   \n",
       "26706          26706      65+ Years      Some College   \n",
       "\n",
       "                  income_poverty   employment_status      race     sex  \\\n",
       "26702  <= $75,000, Above Poverty  Not in Labor Force     White  Female   \n",
       "26703  <= $75,000, Above Poverty            Employed     White    Male   \n",
       "26704                        NaN                 NaN     White  Female   \n",
       "26705  <= $75,000, Above Poverty            Employed  Hispanic  Female   \n",
       "26706  <= $75,000, Above Poverty  Not in Labor Force     White    Male   \n",
       "\n",
       "      marital_status rent_or_own  \n",
       "26702    Not Married         Own  \n",
       "26703    Not Married        Rent  \n",
       "26704    Not Married         Own  \n",
       "26705        Married        Rent  \n",
       "26706        Married         Own  "
      ]
     },
     "execution_count": 10,
     "metadata": {},
     "output_type": "execute_result"
    }
   ],
   "source": [
    "train_features_df.tail()"
   ]
  },
  {
   "cell_type": "code",
   "execution_count": 11,
   "id": "88502d49",
   "metadata": {},
   "outputs": [
    {
     "data": {
      "text/html": [
       "<div>\n",
       "<style scoped>\n",
       "    .dataframe tbody tr th:only-of-type {\n",
       "        vertical-align: middle;\n",
       "    }\n",
       "\n",
       "    .dataframe tbody tr th {\n",
       "        vertical-align: top;\n",
       "    }\n",
       "\n",
       "    .dataframe thead th {\n",
       "        text-align: right;\n",
       "    }\n",
       "</style>\n",
       "<table border=\"1\" class=\"dataframe\">\n",
       "  <thead>\n",
       "    <tr style=\"text-align: right;\">\n",
       "      <th></th>\n",
       "      <th>respondent_id</th>\n",
       "      <th>age_group</th>\n",
       "      <th>education</th>\n",
       "      <th>income_poverty</th>\n",
       "      <th>employment_status</th>\n",
       "      <th>race</th>\n",
       "      <th>sex</th>\n",
       "      <th>marital_status</th>\n",
       "      <th>rent_or_own</th>\n",
       "    </tr>\n",
       "  </thead>\n",
       "  <tbody>\n",
       "    <tr>\n",
       "      <th>17009</th>\n",
       "      <td>17009</td>\n",
       "      <td>18 - 34 Years</td>\n",
       "      <td>Some College</td>\n",
       "      <td>Below Poverty</td>\n",
       "      <td>Not in Labor Force</td>\n",
       "      <td>Black</td>\n",
       "      <td>Female</td>\n",
       "      <td>Not Married</td>\n",
       "      <td>Rent</td>\n",
       "    </tr>\n",
       "    <tr>\n",
       "      <th>7771</th>\n",
       "      <td>7771</td>\n",
       "      <td>55 - 64 Years</td>\n",
       "      <td>College Graduate</td>\n",
       "      <td>&lt;= $75,000, Above Poverty</td>\n",
       "      <td>Employed</td>\n",
       "      <td>White</td>\n",
       "      <td>Female</td>\n",
       "      <td>Married</td>\n",
       "      <td>Own</td>\n",
       "    </tr>\n",
       "    <tr>\n",
       "      <th>7308</th>\n",
       "      <td>7308</td>\n",
       "      <td>35 - 44 Years</td>\n",
       "      <td>College Graduate</td>\n",
       "      <td>&gt; $75,000</td>\n",
       "      <td>Employed</td>\n",
       "      <td>Hispanic</td>\n",
       "      <td>Female</td>\n",
       "      <td>Married</td>\n",
       "      <td>Rent</td>\n",
       "    </tr>\n",
       "    <tr>\n",
       "      <th>13384</th>\n",
       "      <td>13384</td>\n",
       "      <td>65+ Years</td>\n",
       "      <td>College Graduate</td>\n",
       "      <td>&lt;= $75,000, Above Poverty</td>\n",
       "      <td>Not in Labor Force</td>\n",
       "      <td>White</td>\n",
       "      <td>Male</td>\n",
       "      <td>Married</td>\n",
       "      <td>Own</td>\n",
       "    </tr>\n",
       "    <tr>\n",
       "      <th>9103</th>\n",
       "      <td>9103</td>\n",
       "      <td>55 - 64 Years</td>\n",
       "      <td>College Graduate</td>\n",
       "      <td>&lt;= $75,000, Above Poverty</td>\n",
       "      <td>Unemployed</td>\n",
       "      <td>White</td>\n",
       "      <td>Male</td>\n",
       "      <td>Not Married</td>\n",
       "      <td>Own</td>\n",
       "    </tr>\n",
       "  </tbody>\n",
       "</table>\n",
       "</div>"
      ],
      "text/plain": [
       "       respondent_id      age_group         education  \\\n",
       "17009          17009  18 - 34 Years      Some College   \n",
       "7771            7771  55 - 64 Years  College Graduate   \n",
       "7308            7308  35 - 44 Years  College Graduate   \n",
       "13384          13384      65+ Years  College Graduate   \n",
       "9103            9103  55 - 64 Years  College Graduate   \n",
       "\n",
       "                  income_poverty   employment_status      race     sex  \\\n",
       "17009              Below Poverty  Not in Labor Force     Black  Female   \n",
       "7771   <= $75,000, Above Poverty            Employed     White  Female   \n",
       "7308                   > $75,000            Employed  Hispanic  Female   \n",
       "13384  <= $75,000, Above Poverty  Not in Labor Force     White    Male   \n",
       "9103   <= $75,000, Above Poverty          Unemployed     White    Male   \n",
       "\n",
       "      marital_status rent_or_own  \n",
       "17009    Not Married        Rent  \n",
       "7771         Married         Own  \n",
       "7308         Married        Rent  \n",
       "13384        Married         Own  \n",
       "9103     Not Married         Own  "
      ]
     },
     "execution_count": 11,
     "metadata": {},
     "output_type": "execute_result"
    }
   ],
   "source": [
    "train_features_df.sample(5)"
   ]
  },
  {
   "cell_type": "markdown",
   "id": "5bd12306",
   "metadata": {},
   "source": [
    "**testing_set_features.csv**"
   ]
  },
  {
   "cell_type": "code",
   "execution_count": 12,
   "id": "b1f3c6cd",
   "metadata": {},
   "outputs": [
    {
     "name": "stdout",
     "output_type": "stream",
     "text": [
      "<class 'pandas.core.frame.DataFrame'>\n",
      "RangeIndex: 26708 entries, 0 to 26707\n",
      "Data columns (total 36 columns):\n",
      " #   Column                       Non-Null Count  Dtype  \n",
      "---  ------                       --------------  -----  \n",
      " 0   respondent_id                26708 non-null  int64  \n",
      " 1   h1n1_concern                 26623 non-null  float64\n",
      " 2   h1n1_knowledge               26586 non-null  float64\n",
      " 3   behavioral_antiviral_meds    26629 non-null  float64\n",
      " 4   behavioral_avoidance         26495 non-null  float64\n",
      " 5   behavioral_face_mask         26689 non-null  float64\n",
      " 6   behavioral_wash_hands        26668 non-null  float64\n",
      " 7   behavioral_large_gatherings  26636 non-null  float64\n",
      " 8   behavioral_outside_home      26626 non-null  float64\n",
      " 9   behavioral_touch_face        26580 non-null  float64\n",
      " 10  doctor_recc_h1n1             24548 non-null  float64\n",
      " 11  doctor_recc_seasonal         24548 non-null  float64\n",
      " 12  chronic_med_condition        25776 non-null  float64\n",
      " 13  child_under_6_months         25895 non-null  float64\n",
      " 14  health_worker                25919 non-null  float64\n",
      " 15  health_insurance             14480 non-null  float64\n",
      " 16  opinion_h1n1_vacc_effective  26310 non-null  float64\n",
      " 17  opinion_h1n1_risk            26328 non-null  float64\n",
      " 18  opinion_h1n1_sick_from_vacc  26333 non-null  float64\n",
      " 19  opinion_seas_vacc_effective  26256 non-null  float64\n",
      " 20  opinion_seas_risk            26209 non-null  float64\n",
      " 21  opinion_seas_sick_from_vacc  26187 non-null  float64\n",
      " 22  age_group                    26708 non-null  object \n",
      " 23  education                    25301 non-null  object \n",
      " 24  race                         26708 non-null  object \n",
      " 25  sex                          26708 non-null  object \n",
      " 26  income_poverty               22211 non-null  object \n",
      " 27  marital_status               25266 non-null  object \n",
      " 28  rent_or_own                  24672 non-null  object \n",
      " 29  employment_status            25237 non-null  object \n",
      " 30  hhs_geo_region               26708 non-null  object \n",
      " 31  census_msa                   26708 non-null  object \n",
      " 32  household_adults             26483 non-null  float64\n",
      " 33  household_children           26483 non-null  float64\n",
      " 34  employment_industry          13433 non-null  object \n",
      " 35  employment_occupation        13282 non-null  object \n",
      "dtypes: float64(23), int64(1), object(12)\n",
      "memory usage: 7.3+ MB\n"
     ]
    }
   ],
   "source": [
    "test_features_df.info()"
   ]
  },
  {
   "cell_type": "markdown",
   "id": "342ee83e",
   "metadata": {},
   "source": [
    "**Select the feautures**\n",
    "\n",
    "Features selected are to explore how demographic factors effect "
   ]
  },
  {
   "cell_type": "code",
   "execution_count": 13,
   "id": "ffe0e38b",
   "metadata": {},
   "outputs": [],
   "source": [
    "test_features_df = test_features_df[[\"respondent_id\",\"age_group\", \"education\", \"income_poverty\", \"employment_status\",\n",
    "    \"race\", \"sex\", \"marital_status\", \"rent_or_own\"]]"
   ]
  },
  {
   "cell_type": "code",
   "execution_count": 14,
   "id": "6e20549e",
   "metadata": {},
   "outputs": [
    {
     "data": {
      "text/html": [
       "<div>\n",
       "<style scoped>\n",
       "    .dataframe tbody tr th:only-of-type {\n",
       "        vertical-align: middle;\n",
       "    }\n",
       "\n",
       "    .dataframe tbody tr th {\n",
       "        vertical-align: top;\n",
       "    }\n",
       "\n",
       "    .dataframe thead th {\n",
       "        text-align: right;\n",
       "    }\n",
       "</style>\n",
       "<table border=\"1\" class=\"dataframe\">\n",
       "  <thead>\n",
       "    <tr style=\"text-align: right;\">\n",
       "      <th></th>\n",
       "      <th>respondent_id</th>\n",
       "    </tr>\n",
       "  </thead>\n",
       "  <tbody>\n",
       "    <tr>\n",
       "      <th>count</th>\n",
       "      <td>26708.000000</td>\n",
       "    </tr>\n",
       "    <tr>\n",
       "      <th>mean</th>\n",
       "      <td>40060.500000</td>\n",
       "    </tr>\n",
       "    <tr>\n",
       "      <th>std</th>\n",
       "      <td>7710.079831</td>\n",
       "    </tr>\n",
       "    <tr>\n",
       "      <th>min</th>\n",
       "      <td>26707.000000</td>\n",
       "    </tr>\n",
       "    <tr>\n",
       "      <th>25%</th>\n",
       "      <td>33383.750000</td>\n",
       "    </tr>\n",
       "    <tr>\n",
       "      <th>50%</th>\n",
       "      <td>40060.500000</td>\n",
       "    </tr>\n",
       "    <tr>\n",
       "      <th>75%</th>\n",
       "      <td>46737.250000</td>\n",
       "    </tr>\n",
       "    <tr>\n",
       "      <th>max</th>\n",
       "      <td>53414.000000</td>\n",
       "    </tr>\n",
       "  </tbody>\n",
       "</table>\n",
       "</div>"
      ],
      "text/plain": [
       "       respondent_id\n",
       "count   26708.000000\n",
       "mean    40060.500000\n",
       "std      7710.079831\n",
       "min     26707.000000\n",
       "25%     33383.750000\n",
       "50%     40060.500000\n",
       "75%     46737.250000\n",
       "max     53414.000000"
      ]
     },
     "execution_count": 14,
     "metadata": {},
     "output_type": "execute_result"
    }
   ],
   "source": [
    "test_features_df.describe()"
   ]
  },
  {
   "cell_type": "code",
   "execution_count": 15,
   "id": "dff5929e",
   "metadata": {},
   "outputs": [
    {
     "name": "stdout",
     "output_type": "stream",
     "text": [
      "<class 'pandas.core.frame.DataFrame'>\n",
      "RangeIndex: 26708 entries, 0 to 26707\n",
      "Data columns (total 9 columns):\n",
      " #   Column             Non-Null Count  Dtype \n",
      "---  ------             --------------  ----- \n",
      " 0   respondent_id      26708 non-null  int64 \n",
      " 1   age_group          26708 non-null  object\n",
      " 2   education          25301 non-null  object\n",
      " 3   income_poverty     22211 non-null  object\n",
      " 4   employment_status  25237 non-null  object\n",
      " 5   race               26708 non-null  object\n",
      " 6   sex                26708 non-null  object\n",
      " 7   marital_status     25266 non-null  object\n",
      " 8   rent_or_own        24672 non-null  object\n",
      "dtypes: int64(1), object(8)\n",
      "memory usage: 1.8+ MB\n"
     ]
    }
   ],
   "source": [
    "test_features_df.info()"
   ]
  },
  {
   "cell_type": "code",
   "execution_count": 16,
   "id": "a04efe5d",
   "metadata": {},
   "outputs": [
    {
     "data": {
      "text/html": [
       "<div>\n",
       "<style scoped>\n",
       "    .dataframe tbody tr th:only-of-type {\n",
       "        vertical-align: middle;\n",
       "    }\n",
       "\n",
       "    .dataframe tbody tr th {\n",
       "        vertical-align: top;\n",
       "    }\n",
       "\n",
       "    .dataframe thead th {\n",
       "        text-align: right;\n",
       "    }\n",
       "</style>\n",
       "<table border=\"1\" class=\"dataframe\">\n",
       "  <thead>\n",
       "    <tr style=\"text-align: right;\">\n",
       "      <th></th>\n",
       "      <th>respondent_id</th>\n",
       "      <th>age_group</th>\n",
       "      <th>education</th>\n",
       "      <th>income_poverty</th>\n",
       "      <th>employment_status</th>\n",
       "      <th>race</th>\n",
       "      <th>sex</th>\n",
       "      <th>marital_status</th>\n",
       "      <th>rent_or_own</th>\n",
       "    </tr>\n",
       "  </thead>\n",
       "  <tbody>\n",
       "    <tr>\n",
       "      <th>0</th>\n",
       "      <td>26707</td>\n",
       "      <td>35 - 44 Years</td>\n",
       "      <td>College Graduate</td>\n",
       "      <td>&gt; $75,000</td>\n",
       "      <td>Employed</td>\n",
       "      <td>Hispanic</td>\n",
       "      <td>Female</td>\n",
       "      <td>Not Married</td>\n",
       "      <td>Rent</td>\n",
       "    </tr>\n",
       "    <tr>\n",
       "      <th>1</th>\n",
       "      <td>26708</td>\n",
       "      <td>18 - 34 Years</td>\n",
       "      <td>12 Years</td>\n",
       "      <td>Below Poverty</td>\n",
       "      <td>Employed</td>\n",
       "      <td>White</td>\n",
       "      <td>Male</td>\n",
       "      <td>Not Married</td>\n",
       "      <td>Rent</td>\n",
       "    </tr>\n",
       "    <tr>\n",
       "      <th>2</th>\n",
       "      <td>26709</td>\n",
       "      <td>55 - 64 Years</td>\n",
       "      <td>College Graduate</td>\n",
       "      <td>&gt; $75,000</td>\n",
       "      <td>Employed</td>\n",
       "      <td>White</td>\n",
       "      <td>Male</td>\n",
       "      <td>Married</td>\n",
       "      <td>Own</td>\n",
       "    </tr>\n",
       "    <tr>\n",
       "      <th>3</th>\n",
       "      <td>26710</td>\n",
       "      <td>65+ Years</td>\n",
       "      <td>12 Years</td>\n",
       "      <td>&lt;= $75,000, Above Poverty</td>\n",
       "      <td>Not in Labor Force</td>\n",
       "      <td>White</td>\n",
       "      <td>Female</td>\n",
       "      <td>Married</td>\n",
       "      <td>Own</td>\n",
       "    </tr>\n",
       "    <tr>\n",
       "      <th>4</th>\n",
       "      <td>26711</td>\n",
       "      <td>35 - 44 Years</td>\n",
       "      <td>12 Years</td>\n",
       "      <td>&lt;= $75,000, Above Poverty</td>\n",
       "      <td>Employed</td>\n",
       "      <td>Black</td>\n",
       "      <td>Female</td>\n",
       "      <td>Not Married</td>\n",
       "      <td>Own</td>\n",
       "    </tr>\n",
       "  </tbody>\n",
       "</table>\n",
       "</div>"
      ],
      "text/plain": [
       "   respondent_id      age_group         education             income_poverty  \\\n",
       "0          26707  35 - 44 Years  College Graduate                  > $75,000   \n",
       "1          26708  18 - 34 Years          12 Years              Below Poverty   \n",
       "2          26709  55 - 64 Years  College Graduate                  > $75,000   \n",
       "3          26710      65+ Years          12 Years  <= $75,000, Above Poverty   \n",
       "4          26711  35 - 44 Years          12 Years  <= $75,000, Above Poverty   \n",
       "\n",
       "    employment_status      race     sex marital_status rent_or_own  \n",
       "0            Employed  Hispanic  Female    Not Married        Rent  \n",
       "1            Employed     White    Male    Not Married        Rent  \n",
       "2            Employed     White    Male        Married         Own  \n",
       "3  Not in Labor Force     White  Female        Married         Own  \n",
       "4            Employed     Black  Female    Not Married         Own  "
      ]
     },
     "execution_count": 16,
     "metadata": {},
     "output_type": "execute_result"
    }
   ],
   "source": [
    "test_features_df.head()"
   ]
  },
  {
   "cell_type": "code",
   "execution_count": 17,
   "id": "ee75408b",
   "metadata": {},
   "outputs": [
    {
     "data": {
      "text/html": [
       "<div>\n",
       "<style scoped>\n",
       "    .dataframe tbody tr th:only-of-type {\n",
       "        vertical-align: middle;\n",
       "    }\n",
       "\n",
       "    .dataframe tbody tr th {\n",
       "        vertical-align: top;\n",
       "    }\n",
       "\n",
       "    .dataframe thead th {\n",
       "        text-align: right;\n",
       "    }\n",
       "</style>\n",
       "<table border=\"1\" class=\"dataframe\">\n",
       "  <thead>\n",
       "    <tr style=\"text-align: right;\">\n",
       "      <th></th>\n",
       "      <th>respondent_id</th>\n",
       "      <th>age_group</th>\n",
       "      <th>education</th>\n",
       "      <th>income_poverty</th>\n",
       "      <th>employment_status</th>\n",
       "      <th>race</th>\n",
       "      <th>sex</th>\n",
       "      <th>marital_status</th>\n",
       "      <th>rent_or_own</th>\n",
       "    </tr>\n",
       "  </thead>\n",
       "  <tbody>\n",
       "    <tr>\n",
       "      <th>26703</th>\n",
       "      <td>53410</td>\n",
       "      <td>35 - 44 Years</td>\n",
       "      <td>NaN</td>\n",
       "      <td>NaN</td>\n",
       "      <td>NaN</td>\n",
       "      <td>White</td>\n",
       "      <td>Female</td>\n",
       "      <td>NaN</td>\n",
       "      <td>NaN</td>\n",
       "    </tr>\n",
       "    <tr>\n",
       "      <th>26704</th>\n",
       "      <td>53411</td>\n",
       "      <td>18 - 34 Years</td>\n",
       "      <td>12 Years</td>\n",
       "      <td>Below Poverty</td>\n",
       "      <td>Employed</td>\n",
       "      <td>White</td>\n",
       "      <td>Male</td>\n",
       "      <td>Married</td>\n",
       "      <td>Rent</td>\n",
       "    </tr>\n",
       "    <tr>\n",
       "      <th>26705</th>\n",
       "      <td>53412</td>\n",
       "      <td>18 - 34 Years</td>\n",
       "      <td>Some College</td>\n",
       "      <td>Below Poverty</td>\n",
       "      <td>Not in Labor Force</td>\n",
       "      <td>White</td>\n",
       "      <td>Female</td>\n",
       "      <td>Not Married</td>\n",
       "      <td>Rent</td>\n",
       "    </tr>\n",
       "    <tr>\n",
       "      <th>26706</th>\n",
       "      <td>53413</td>\n",
       "      <td>55 - 64 Years</td>\n",
       "      <td>Some College</td>\n",
       "      <td>&lt;= $75,000, Above Poverty</td>\n",
       "      <td>Not in Labor Force</td>\n",
       "      <td>White</td>\n",
       "      <td>Female</td>\n",
       "      <td>Married</td>\n",
       "      <td>Own</td>\n",
       "    </tr>\n",
       "    <tr>\n",
       "      <th>26707</th>\n",
       "      <td>53414</td>\n",
       "      <td>45 - 54 Years</td>\n",
       "      <td>College Graduate</td>\n",
       "      <td>NaN</td>\n",
       "      <td>Employed</td>\n",
       "      <td>White</td>\n",
       "      <td>Female</td>\n",
       "      <td>Not Married</td>\n",
       "      <td>Rent</td>\n",
       "    </tr>\n",
       "  </tbody>\n",
       "</table>\n",
       "</div>"
      ],
      "text/plain": [
       "       respondent_id      age_group         education  \\\n",
       "26703          53410  35 - 44 Years               NaN   \n",
       "26704          53411  18 - 34 Years          12 Years   \n",
       "26705          53412  18 - 34 Years      Some College   \n",
       "26706          53413  55 - 64 Years      Some College   \n",
       "26707          53414  45 - 54 Years  College Graduate   \n",
       "\n",
       "                  income_poverty   employment_status   race     sex  \\\n",
       "26703                        NaN                 NaN  White  Female   \n",
       "26704              Below Poverty            Employed  White    Male   \n",
       "26705              Below Poverty  Not in Labor Force  White  Female   \n",
       "26706  <= $75,000, Above Poverty  Not in Labor Force  White  Female   \n",
       "26707                        NaN            Employed  White  Female   \n",
       "\n",
       "      marital_status rent_or_own  \n",
       "26703            NaN         NaN  \n",
       "26704        Married        Rent  \n",
       "26705    Not Married        Rent  \n",
       "26706        Married         Own  \n",
       "26707    Not Married        Rent  "
      ]
     },
     "execution_count": 17,
     "metadata": {},
     "output_type": "execute_result"
    }
   ],
   "source": [
    "test_features_df.tail()"
   ]
  },
  {
   "cell_type": "code",
   "execution_count": 18,
   "id": "ffa78275",
   "metadata": {
    "scrolled": true
   },
   "outputs": [
    {
     "data": {
      "text/html": [
       "<div>\n",
       "<style scoped>\n",
       "    .dataframe tbody tr th:only-of-type {\n",
       "        vertical-align: middle;\n",
       "    }\n",
       "\n",
       "    .dataframe tbody tr th {\n",
       "        vertical-align: top;\n",
       "    }\n",
       "\n",
       "    .dataframe thead th {\n",
       "        text-align: right;\n",
       "    }\n",
       "</style>\n",
       "<table border=\"1\" class=\"dataframe\">\n",
       "  <thead>\n",
       "    <tr style=\"text-align: right;\">\n",
       "      <th></th>\n",
       "      <th>respondent_id</th>\n",
       "      <th>age_group</th>\n",
       "      <th>education</th>\n",
       "      <th>income_poverty</th>\n",
       "      <th>employment_status</th>\n",
       "      <th>race</th>\n",
       "      <th>sex</th>\n",
       "      <th>marital_status</th>\n",
       "      <th>rent_or_own</th>\n",
       "    </tr>\n",
       "  </thead>\n",
       "  <tbody>\n",
       "    <tr>\n",
       "      <th>22516</th>\n",
       "      <td>49223</td>\n",
       "      <td>45 - 54 Years</td>\n",
       "      <td>12 Years</td>\n",
       "      <td>&gt; $75,000</td>\n",
       "      <td>Not in Labor Force</td>\n",
       "      <td>White</td>\n",
       "      <td>Female</td>\n",
       "      <td>Married</td>\n",
       "      <td>Own</td>\n",
       "    </tr>\n",
       "    <tr>\n",
       "      <th>21509</th>\n",
       "      <td>48216</td>\n",
       "      <td>18 - 34 Years</td>\n",
       "      <td>College Graduate</td>\n",
       "      <td>&gt; $75,000</td>\n",
       "      <td>Employed</td>\n",
       "      <td>Other or Multiple</td>\n",
       "      <td>Male</td>\n",
       "      <td>Not Married</td>\n",
       "      <td>Rent</td>\n",
       "    </tr>\n",
       "    <tr>\n",
       "      <th>12371</th>\n",
       "      <td>39078</td>\n",
       "      <td>18 - 34 Years</td>\n",
       "      <td>College Graduate</td>\n",
       "      <td>&lt;= $75,000, Above Poverty</td>\n",
       "      <td>Not in Labor Force</td>\n",
       "      <td>White</td>\n",
       "      <td>Male</td>\n",
       "      <td>Not Married</td>\n",
       "      <td>Rent</td>\n",
       "    </tr>\n",
       "    <tr>\n",
       "      <th>10422</th>\n",
       "      <td>37129</td>\n",
       "      <td>55 - 64 Years</td>\n",
       "      <td>College Graduate</td>\n",
       "      <td>&lt;= $75,000, Above Poverty</td>\n",
       "      <td>Employed</td>\n",
       "      <td>White</td>\n",
       "      <td>Male</td>\n",
       "      <td>Married</td>\n",
       "      <td>Own</td>\n",
       "    </tr>\n",
       "    <tr>\n",
       "      <th>14377</th>\n",
       "      <td>41084</td>\n",
       "      <td>65+ Years</td>\n",
       "      <td>Some College</td>\n",
       "      <td>&lt;= $75,000, Above Poverty</td>\n",
       "      <td>Not in Labor Force</td>\n",
       "      <td>White</td>\n",
       "      <td>Female</td>\n",
       "      <td>Not Married</td>\n",
       "      <td>Own</td>\n",
       "    </tr>\n",
       "  </tbody>\n",
       "</table>\n",
       "</div>"
      ],
      "text/plain": [
       "       respondent_id      age_group         education  \\\n",
       "22516          49223  45 - 54 Years          12 Years   \n",
       "21509          48216  18 - 34 Years  College Graduate   \n",
       "12371          39078  18 - 34 Years  College Graduate   \n",
       "10422          37129  55 - 64 Years  College Graduate   \n",
       "14377          41084      65+ Years      Some College   \n",
       "\n",
       "                  income_poverty   employment_status               race  \\\n",
       "22516                  > $75,000  Not in Labor Force              White   \n",
       "21509                  > $75,000            Employed  Other or Multiple   \n",
       "12371  <= $75,000, Above Poverty  Not in Labor Force              White   \n",
       "10422  <= $75,000, Above Poverty            Employed              White   \n",
       "14377  <= $75,000, Above Poverty  Not in Labor Force              White   \n",
       "\n",
       "          sex marital_status rent_or_own  \n",
       "22516  Female        Married         Own  \n",
       "21509    Male    Not Married        Rent  \n",
       "12371    Male    Not Married        Rent  \n",
       "10422    Male        Married         Own  \n",
       "14377  Female    Not Married         Own  "
      ]
     },
     "execution_count": 18,
     "metadata": {},
     "output_type": "execute_result"
    }
   ],
   "source": [
    "test_features_df.sample(5)"
   ]
  },
  {
   "cell_type": "markdown",
   "id": "81d96390",
   "metadata": {},
   "source": [
    "**training_set_labels.csv**"
   ]
  },
  {
   "cell_type": "code",
   "execution_count": 19,
   "id": "13939672",
   "metadata": {},
   "outputs": [
    {
     "name": "stdout",
     "output_type": "stream",
     "text": [
      "<class 'pandas.core.frame.DataFrame'>\n",
      "RangeIndex: 26707 entries, 0 to 26706\n",
      "Data columns (total 3 columns):\n",
      " #   Column            Non-Null Count  Dtype\n",
      "---  ------            --------------  -----\n",
      " 0   respondent_id     26707 non-null  int64\n",
      " 1   h1n1_vaccine      26707 non-null  int64\n",
      " 2   seasonal_vaccine  26707 non-null  int64\n",
      "dtypes: int64(3)\n",
      "memory usage: 626.1 KB\n"
     ]
    }
   ],
   "source": [
    "train_labels_df.info()"
   ]
  },
  {
   "cell_type": "code",
   "execution_count": 20,
   "id": "63a4add6",
   "metadata": {},
   "outputs": [
    {
     "data": {
      "text/html": [
       "<div>\n",
       "<style scoped>\n",
       "    .dataframe tbody tr th:only-of-type {\n",
       "        vertical-align: middle;\n",
       "    }\n",
       "\n",
       "    .dataframe tbody tr th {\n",
       "        vertical-align: top;\n",
       "    }\n",
       "\n",
       "    .dataframe thead th {\n",
       "        text-align: right;\n",
       "    }\n",
       "</style>\n",
       "<table border=\"1\" class=\"dataframe\">\n",
       "  <thead>\n",
       "    <tr style=\"text-align: right;\">\n",
       "      <th></th>\n",
       "      <th>respondent_id</th>\n",
       "      <th>h1n1_vaccine</th>\n",
       "      <th>seasonal_vaccine</th>\n",
       "    </tr>\n",
       "  </thead>\n",
       "  <tbody>\n",
       "    <tr>\n",
       "      <th>count</th>\n",
       "      <td>26707.000000</td>\n",
       "      <td>26707.000000</td>\n",
       "      <td>26707.000000</td>\n",
       "    </tr>\n",
       "    <tr>\n",
       "      <th>mean</th>\n",
       "      <td>13353.000000</td>\n",
       "      <td>0.212454</td>\n",
       "      <td>0.465608</td>\n",
       "    </tr>\n",
       "    <tr>\n",
       "      <th>std</th>\n",
       "      <td>7709.791156</td>\n",
       "      <td>0.409052</td>\n",
       "      <td>0.498825</td>\n",
       "    </tr>\n",
       "    <tr>\n",
       "      <th>min</th>\n",
       "      <td>0.000000</td>\n",
       "      <td>0.000000</td>\n",
       "      <td>0.000000</td>\n",
       "    </tr>\n",
       "    <tr>\n",
       "      <th>25%</th>\n",
       "      <td>6676.500000</td>\n",
       "      <td>0.000000</td>\n",
       "      <td>0.000000</td>\n",
       "    </tr>\n",
       "    <tr>\n",
       "      <th>50%</th>\n",
       "      <td>13353.000000</td>\n",
       "      <td>0.000000</td>\n",
       "      <td>0.000000</td>\n",
       "    </tr>\n",
       "    <tr>\n",
       "      <th>75%</th>\n",
       "      <td>20029.500000</td>\n",
       "      <td>0.000000</td>\n",
       "      <td>1.000000</td>\n",
       "    </tr>\n",
       "    <tr>\n",
       "      <th>max</th>\n",
       "      <td>26706.000000</td>\n",
       "      <td>1.000000</td>\n",
       "      <td>1.000000</td>\n",
       "    </tr>\n",
       "  </tbody>\n",
       "</table>\n",
       "</div>"
      ],
      "text/plain": [
       "       respondent_id  h1n1_vaccine  seasonal_vaccine\n",
       "count   26707.000000  26707.000000      26707.000000\n",
       "mean    13353.000000      0.212454          0.465608\n",
       "std      7709.791156      0.409052          0.498825\n",
       "min         0.000000      0.000000          0.000000\n",
       "25%      6676.500000      0.000000          0.000000\n",
       "50%     13353.000000      0.000000          0.000000\n",
       "75%     20029.500000      0.000000          1.000000\n",
       "max     26706.000000      1.000000          1.000000"
      ]
     },
     "execution_count": 20,
     "metadata": {},
     "output_type": "execute_result"
    }
   ],
   "source": [
    "train_labels_df.describe()"
   ]
  },
  {
   "cell_type": "code",
   "execution_count": 21,
   "id": "bd323361",
   "metadata": {},
   "outputs": [
    {
     "name": "stdout",
     "output_type": "stream",
     "text": [
      "<class 'pandas.core.frame.DataFrame'>\n",
      "RangeIndex: 26707 entries, 0 to 26706\n",
      "Data columns (total 3 columns):\n",
      " #   Column            Non-Null Count  Dtype\n",
      "---  ------            --------------  -----\n",
      " 0   respondent_id     26707 non-null  int64\n",
      " 1   h1n1_vaccine      26707 non-null  int64\n",
      " 2   seasonal_vaccine  26707 non-null  int64\n",
      "dtypes: int64(3)\n",
      "memory usage: 626.1 KB\n"
     ]
    }
   ],
   "source": [
    "train_labels_df.info()"
   ]
  },
  {
   "cell_type": "code",
   "execution_count": 22,
   "id": "a00df3ed",
   "metadata": {},
   "outputs": [
    {
     "data": {
      "text/html": [
       "<div>\n",
       "<style scoped>\n",
       "    .dataframe tbody tr th:only-of-type {\n",
       "        vertical-align: middle;\n",
       "    }\n",
       "\n",
       "    .dataframe tbody tr th {\n",
       "        vertical-align: top;\n",
       "    }\n",
       "\n",
       "    .dataframe thead th {\n",
       "        text-align: right;\n",
       "    }\n",
       "</style>\n",
       "<table border=\"1\" class=\"dataframe\">\n",
       "  <thead>\n",
       "    <tr style=\"text-align: right;\">\n",
       "      <th></th>\n",
       "      <th>respondent_id</th>\n",
       "      <th>h1n1_vaccine</th>\n",
       "      <th>seasonal_vaccine</th>\n",
       "    </tr>\n",
       "  </thead>\n",
       "  <tbody>\n",
       "    <tr>\n",
       "      <th>0</th>\n",
       "      <td>0</td>\n",
       "      <td>0</td>\n",
       "      <td>0</td>\n",
       "    </tr>\n",
       "    <tr>\n",
       "      <th>1</th>\n",
       "      <td>1</td>\n",
       "      <td>0</td>\n",
       "      <td>1</td>\n",
       "    </tr>\n",
       "    <tr>\n",
       "      <th>2</th>\n",
       "      <td>2</td>\n",
       "      <td>0</td>\n",
       "      <td>0</td>\n",
       "    </tr>\n",
       "    <tr>\n",
       "      <th>3</th>\n",
       "      <td>3</td>\n",
       "      <td>0</td>\n",
       "      <td>1</td>\n",
       "    </tr>\n",
       "    <tr>\n",
       "      <th>4</th>\n",
       "      <td>4</td>\n",
       "      <td>0</td>\n",
       "      <td>0</td>\n",
       "    </tr>\n",
       "  </tbody>\n",
       "</table>\n",
       "</div>"
      ],
      "text/plain": [
       "   respondent_id  h1n1_vaccine  seasonal_vaccine\n",
       "0              0             0                 0\n",
       "1              1             0                 1\n",
       "2              2             0                 0\n",
       "3              3             0                 1\n",
       "4              4             0                 0"
      ]
     },
     "execution_count": 22,
     "metadata": {},
     "output_type": "execute_result"
    }
   ],
   "source": [
    "train_labels_df.head()"
   ]
  },
  {
   "cell_type": "code",
   "execution_count": 23,
   "id": "0381c0d3",
   "metadata": {},
   "outputs": [
    {
     "data": {
      "text/html": [
       "<div>\n",
       "<style scoped>\n",
       "    .dataframe tbody tr th:only-of-type {\n",
       "        vertical-align: middle;\n",
       "    }\n",
       "\n",
       "    .dataframe tbody tr th {\n",
       "        vertical-align: top;\n",
       "    }\n",
       "\n",
       "    .dataframe thead th {\n",
       "        text-align: right;\n",
       "    }\n",
       "</style>\n",
       "<table border=\"1\" class=\"dataframe\">\n",
       "  <thead>\n",
       "    <tr style=\"text-align: right;\">\n",
       "      <th></th>\n",
       "      <th>respondent_id</th>\n",
       "      <th>h1n1_vaccine</th>\n",
       "      <th>seasonal_vaccine</th>\n",
       "    </tr>\n",
       "  </thead>\n",
       "  <tbody>\n",
       "    <tr>\n",
       "      <th>26702</th>\n",
       "      <td>26702</td>\n",
       "      <td>0</td>\n",
       "      <td>0</td>\n",
       "    </tr>\n",
       "    <tr>\n",
       "      <th>26703</th>\n",
       "      <td>26703</td>\n",
       "      <td>0</td>\n",
       "      <td>0</td>\n",
       "    </tr>\n",
       "    <tr>\n",
       "      <th>26704</th>\n",
       "      <td>26704</td>\n",
       "      <td>0</td>\n",
       "      <td>1</td>\n",
       "    </tr>\n",
       "    <tr>\n",
       "      <th>26705</th>\n",
       "      <td>26705</td>\n",
       "      <td>0</td>\n",
       "      <td>0</td>\n",
       "    </tr>\n",
       "    <tr>\n",
       "      <th>26706</th>\n",
       "      <td>26706</td>\n",
       "      <td>0</td>\n",
       "      <td>0</td>\n",
       "    </tr>\n",
       "  </tbody>\n",
       "</table>\n",
       "</div>"
      ],
      "text/plain": [
       "       respondent_id  h1n1_vaccine  seasonal_vaccine\n",
       "26702          26702             0                 0\n",
       "26703          26703             0                 0\n",
       "26704          26704             0                 1\n",
       "26705          26705             0                 0\n",
       "26706          26706             0                 0"
      ]
     },
     "execution_count": 23,
     "metadata": {},
     "output_type": "execute_result"
    }
   ],
   "source": [
    "train_labels_df.tail()"
   ]
  },
  {
   "cell_type": "code",
   "execution_count": 24,
   "id": "5a7fc34f",
   "metadata": {},
   "outputs": [
    {
     "data": {
      "text/html": [
       "<div>\n",
       "<style scoped>\n",
       "    .dataframe tbody tr th:only-of-type {\n",
       "        vertical-align: middle;\n",
       "    }\n",
       "\n",
       "    .dataframe tbody tr th {\n",
       "        vertical-align: top;\n",
       "    }\n",
       "\n",
       "    .dataframe thead th {\n",
       "        text-align: right;\n",
       "    }\n",
       "</style>\n",
       "<table border=\"1\" class=\"dataframe\">\n",
       "  <thead>\n",
       "    <tr style=\"text-align: right;\">\n",
       "      <th></th>\n",
       "      <th>respondent_id</th>\n",
       "      <th>h1n1_vaccine</th>\n",
       "      <th>seasonal_vaccine</th>\n",
       "    </tr>\n",
       "  </thead>\n",
       "  <tbody>\n",
       "    <tr>\n",
       "      <th>16838</th>\n",
       "      <td>16838</td>\n",
       "      <td>0</td>\n",
       "      <td>1</td>\n",
       "    </tr>\n",
       "    <tr>\n",
       "      <th>19723</th>\n",
       "      <td>19723</td>\n",
       "      <td>0</td>\n",
       "      <td>0</td>\n",
       "    </tr>\n",
       "    <tr>\n",
       "      <th>25367</th>\n",
       "      <td>25367</td>\n",
       "      <td>0</td>\n",
       "      <td>0</td>\n",
       "    </tr>\n",
       "    <tr>\n",
       "      <th>18650</th>\n",
       "      <td>18650</td>\n",
       "      <td>1</td>\n",
       "      <td>1</td>\n",
       "    </tr>\n",
       "    <tr>\n",
       "      <th>9493</th>\n",
       "      <td>9493</td>\n",
       "      <td>0</td>\n",
       "      <td>0</td>\n",
       "    </tr>\n",
       "  </tbody>\n",
       "</table>\n",
       "</div>"
      ],
      "text/plain": [
       "       respondent_id  h1n1_vaccine  seasonal_vaccine\n",
       "16838          16838             0                 1\n",
       "19723          19723             0                 0\n",
       "25367          25367             0                 0\n",
       "18650          18650             1                 1\n",
       "9493            9493             0                 0"
      ]
     },
     "execution_count": 24,
     "metadata": {},
     "output_type": "execute_result"
    }
   ],
   "source": [
    "train_labels_df.sample(5)"
   ]
  },
  {
   "cell_type": "markdown",
   "id": "374b8d74",
   "metadata": {},
   "source": [
    "# Data Cleaning"
   ]
  },
  {
   "cell_type": "markdown",
   "id": "3a9cd30a",
   "metadata": {},
   "source": [
    "## Correct formats"
   ]
  },
  {
   "cell_type": "markdown",
   "id": "39d28632",
   "metadata": {},
   "source": [
    "**training_set_features.csv**"
   ]
  },
  {
   "cell_type": "code",
   "execution_count": 25,
   "id": "4dea8e67",
   "metadata": {},
   "outputs": [
    {
     "name": "stdout",
     "output_type": "stream",
     "text": [
      "<class 'pandas.core.frame.DataFrame'>\n",
      "RangeIndex: 26707 entries, 0 to 26706\n",
      "Data columns (total 9 columns):\n",
      " #   Column             Non-Null Count  Dtype \n",
      "---  ------             --------------  ----- \n",
      " 0   respondent_id      26707 non-null  int64 \n",
      " 1   age_group          26707 non-null  object\n",
      " 2   education          25300 non-null  object\n",
      " 3   income_poverty     22284 non-null  object\n",
      " 4   employment_status  25244 non-null  object\n",
      " 5   race               26707 non-null  object\n",
      " 6   sex                26707 non-null  object\n",
      " 7   marital_status     25299 non-null  object\n",
      " 8   rent_or_own        24665 non-null  object\n",
      "dtypes: int64(1), object(8)\n",
      "memory usage: 1.8+ MB\n"
     ]
    }
   ],
   "source": [
    "train_features_df.info()"
   ]
  },
  {
   "cell_type": "markdown",
   "id": "86c26e7a",
   "metadata": {},
   "source": [
    "Formats are as expected"
   ]
  },
  {
   "cell_type": "markdown",
   "id": "041fc3fe",
   "metadata": {},
   "source": [
    "**testing_set_features.csv**"
   ]
  },
  {
   "cell_type": "code",
   "execution_count": 26,
   "id": "075d14b4",
   "metadata": {
    "scrolled": true
   },
   "outputs": [
    {
     "name": "stdout",
     "output_type": "stream",
     "text": [
      "<class 'pandas.core.frame.DataFrame'>\n",
      "RangeIndex: 26708 entries, 0 to 26707\n",
      "Data columns (total 9 columns):\n",
      " #   Column             Non-Null Count  Dtype \n",
      "---  ------             --------------  ----- \n",
      " 0   respondent_id      26708 non-null  int64 \n",
      " 1   age_group          26708 non-null  object\n",
      " 2   education          25301 non-null  object\n",
      " 3   income_poverty     22211 non-null  object\n",
      " 4   employment_status  25237 non-null  object\n",
      " 5   race               26708 non-null  object\n",
      " 6   sex                26708 non-null  object\n",
      " 7   marital_status     25266 non-null  object\n",
      " 8   rent_or_own        24672 non-null  object\n",
      "dtypes: int64(1), object(8)\n",
      "memory usage: 1.8+ MB\n"
     ]
    }
   ],
   "source": [
    "test_features_df.info()"
   ]
  },
  {
   "cell_type": "markdown",
   "id": "481fccda",
   "metadata": {},
   "source": [
    "Formats are as expected"
   ]
  },
  {
   "cell_type": "markdown",
   "id": "b5cc904d",
   "metadata": {},
   "source": [
    "**training_set_labels.csv**"
   ]
  },
  {
   "cell_type": "code",
   "execution_count": 27,
   "id": "457aee11",
   "metadata": {},
   "outputs": [
    {
     "name": "stdout",
     "output_type": "stream",
     "text": [
      "<class 'pandas.core.frame.DataFrame'>\n",
      "RangeIndex: 26707 entries, 0 to 26706\n",
      "Data columns (total 3 columns):\n",
      " #   Column            Non-Null Count  Dtype\n",
      "---  ------            --------------  -----\n",
      " 0   respondent_id     26707 non-null  int64\n",
      " 1   h1n1_vaccine      26707 non-null  int64\n",
      " 2   seasonal_vaccine  26707 non-null  int64\n",
      "dtypes: int64(3)\n",
      "memory usage: 626.1 KB\n"
     ]
    }
   ],
   "source": [
    "train_labels_df.info()"
   ]
  },
  {
   "cell_type": "markdown",
   "id": "dbd7b991",
   "metadata": {},
   "source": [
    "Formats are as expected"
   ]
  },
  {
   "cell_type": "markdown",
   "id": "c9ccf64a",
   "metadata": {},
   "source": [
    "### Missing Values"
   ]
  },
  {
   "cell_type": "code",
   "execution_count": 28,
   "id": "497f80c7",
   "metadata": {},
   "outputs": [
    {
     "data": {
      "text/plain": [
       "respondent_id           0\n",
       "age_group               0\n",
       "education            1407\n",
       "income_poverty       4423\n",
       "employment_status    1463\n",
       "race                    0\n",
       "sex                     0\n",
       "marital_status       1408\n",
       "rent_or_own          2042\n",
       "dtype: int64"
      ]
     },
     "execution_count": 28,
     "metadata": {},
     "output_type": "execute_result"
    }
   ],
   "source": [
    "train_features_df.isna().sum()"
   ]
  },
  {
   "cell_type": "markdown",
   "id": "b05d47f6",
   "metadata": {},
   "source": [
    "The follow are missing values: ```education, income_poverty, employment_status marital status and rent_or_own```. Checking values"
   ]
  },
  {
   "cell_type": "code",
   "execution_count": 29,
   "id": "c305df29",
   "metadata": {},
   "outputs": [
    {
     "name": "stdout",
     "output_type": "stream",
     "text": [
      "education\n",
      "College Graduate    10097\n",
      "Some College         7043\n",
      "12 Years             5797\n",
      "< 12 Years           2363\n",
      "Name: count, dtype: int64\n",
      "\n",
      "income_poverty\n",
      "<= $75,000, Above Poverty    12777\n",
      "> $75,000                     6810\n",
      "Below Poverty                 2697\n",
      "Name: count, dtype: int64\n",
      "\n",
      "employment_status\n",
      "Employed              13560\n",
      "Not in Labor Force    10231\n",
      "Unemployed             1453\n",
      "Name: count, dtype: int64\n",
      "\n",
      "marital_status\n",
      "Married        13555\n",
      "Not Married    11744\n",
      "Name: count, dtype: int64\n",
      "\n",
      "rent_or_own\n",
      "Own     18736\n",
      "Rent     5929\n",
      "Name: count, dtype: int64\n",
      "\n"
     ]
    }
   ],
   "source": [
    "missing = [ \"education\", \"income_poverty\", \"employment_status\", \"marital_status\", \"rent_or_own\"]\n",
    " \n",
    "for col in missing:\n",
    "    print(f\"{train_features_df[col].value_counts()}\\n\")"
   ]
  },
  {
   "cell_type": "markdown",
   "id": "8e42c4ee",
   "metadata": {},
   "source": [
    "Replacing missing values with mode since many are categorical columns"
   ]
  },
  {
   "cell_type": "code",
   "execution_count": 30,
   "id": "ce4bdc5d",
   "metadata": {},
   "outputs": [],
   "source": [
    "for col in missing:\n",
    "    train_features_df[col].fillna(train_features_df[col].mode(), inplace=True)"
   ]
  },
  {
   "cell_type": "code",
   "execution_count": 31,
   "id": "4c9998bb",
   "metadata": {},
   "outputs": [
    {
     "data": {
      "text/plain": [
       "respondent_id           0\n",
       "age_group               0\n",
       "education            1407\n",
       "income_poverty       4423\n",
       "employment_status    1463\n",
       "race                    0\n",
       "sex                     0\n",
       "marital_status       1408\n",
       "rent_or_own          2042\n",
       "dtype: int64"
      ]
     },
     "execution_count": 31,
     "metadata": {},
     "output_type": "execute_result"
    }
   ],
   "source": [
    "train_features_df.isna().sum()"
   ]
  },
  {
   "cell_type": "code",
   "execution_count": 32,
   "id": "8c504f15",
   "metadata": {},
   "outputs": [
    {
     "data": {
      "text/plain": [
       "respondent_id           0\n",
       "age_group               0\n",
       "education            1407\n",
       "income_poverty       4497\n",
       "employment_status    1471\n",
       "race                    0\n",
       "sex                     0\n",
       "marital_status       1442\n",
       "rent_or_own          2036\n",
       "dtype: int64"
      ]
     },
     "execution_count": 32,
     "metadata": {},
     "output_type": "execute_result"
    }
   ],
   "source": [
    "test_features_df.isna().sum()"
   ]
  },
  {
   "cell_type": "markdown",
   "id": "b05d47f6",
   "metadata": {},
   "source": [
    "The follow are missing values: ```education, income_poverty, employment_status marital status and rent_or_own```. Checking values"
   ]
  },
  {
   "cell_type": "code",
   "execution_count": 33,
   "id": "c305df29",
   "metadata": {},
   "outputs": [
    {
     "name": "stdout",
     "output_type": "stream",
     "text": [
      "education\n",
      "College Graduate    10186\n",
      "Some College         7080\n",
      "12 Years             5699\n",
      "< 12 Years           2336\n",
      "Name: count, dtype: int64\n",
      "\n",
      "income_poverty\n",
      "<= $75,000, Above Poverty    12775\n",
      "> $75,000                     6863\n",
      "Below Poverty                 2573\n",
      "Name: count, dtype: int64\n",
      "\n",
      "employment_status\n",
      "Employed              13632\n",
      "Not in Labor Force    10092\n",
      "Unemployed             1513\n",
      "Name: count, dtype: int64\n",
      "\n",
      "marital_status\n",
      "Married        13548\n",
      "Not Married    11718\n",
      "Name: count, dtype: int64\n",
      "\n",
      "rent_or_own\n",
      "Own     18721\n",
      "Rent     5951\n",
      "Name: count, dtype: int64\n",
      "\n"
     ]
    }
   ],
   "source": [
    "missing = [ \"education\", \"income_poverty\", \"employment_status\", \"marital_status\", \"rent_or_own\"]\n",
    " \n",
    "for col in missing:\n",
    "    print(f\"{test_features_df[col].value_counts()}\\n\")"
   ]
  },
  {
   "cell_type": "markdown",
   "id": "0edb8154",
   "metadata": {},
   "source": [
    "Replacing missing values with mode since many are categorical columns"
   ]
  },
  {
   "cell_type": "code",
   "execution_count": 34,
   "id": "79e16b87",
   "metadata": {},
   "outputs": [],
   "source": [
    "for col in missing:\n",
    "    test_features_df[col].fillna(test_features_df[col].mode(), inplace=True)"
   ]
  },
  {
   "cell_type": "code",
   "execution_count": 35,
   "id": "f170b396",
   "metadata": {},
   "outputs": [
    {
     "data": {
      "text/plain": [
       "respondent_id           0\n",
       "age_group               0\n",
       "education            1407\n",
       "income_poverty       4497\n",
       "employment_status    1471\n",
       "race                    0\n",
       "sex                     0\n",
       "marital_status       1442\n",
       "rent_or_own          2036\n",
       "dtype: int64"
      ]
     },
     "execution_count": 35,
     "metadata": {},
     "output_type": "execute_result"
    }
   ],
   "source": [
    "test_features_df.isna().sum()"
   ]
  },
  {
   "cell_type": "code",
   "execution_count": 36,
   "id": "f684257b",
   "metadata": {},
   "outputs": [
    {
     "data": {
      "text/plain": [
       "respondent_id       0\n",
       "h1n1_vaccine        0\n",
       "seasonal_vaccine    0\n",
       "dtype: int64"
      ]
     },
     "execution_count": 36,
     "metadata": {},
     "output_type": "execute_result"
    }
   ],
   "source": [
    "train_labels_df.isna().sum()"
   ]
  },
  {
   "cell_type": "markdown",
   "id": "a02699b9",
   "metadata": {},
   "source": [
    "### Changing Columns"
   ]
  },
  {
   "cell_type": "code",
   "execution_count": 37,
   "id": "061d1083",
   "metadata": {},
   "outputs": [
    {
     "data": {
      "text/plain": [
       "Index(['respondent_id', 'age_group', 'education', 'income_poverty',\n",
       "       'employment_status', 'race', 'sex', 'marital_status', 'rent_or_own'],\n",
       "      dtype='object')"
      ]
     },
     "execution_count": 37,
     "metadata": {},
     "output_type": "execute_result"
    }
   ],
   "source": [
    "train_features_df.columns"
   ]
  },
  {
   "cell_type": "code",
   "execution_count": 38,
   "id": "9a3d096e",
   "metadata": {},
   "outputs": [
    {
     "data": {
      "text/plain": [
       "Index(['respondent_id', 'age_group', 'education', 'income_poverty',\n",
       "       'employment_status', 'race', 'sex', 'marital_status', 'rent_or_own'],\n",
       "      dtype='object')"
      ]
     },
     "execution_count": 38,
     "metadata": {},
     "output_type": "execute_result"
    }
   ],
   "source": [
    "test_features_df.columns"
   ]
  },
  {
   "cell_type": "code",
   "execution_count": 39,
   "id": "caf52735",
   "metadata": {},
   "outputs": [
    {
     "data": {
      "text/plain": [
       "Index(['respondent_id', 'h1n1_vaccine', 'seasonal_vaccine'], dtype='object')"
      ]
     },
     "execution_count": 39,
     "metadata": {},
     "output_type": "execute_result"
    }
   ],
   "source": [
    "train_labels_df.columns"
   ]
  },
  {
   "cell_type": "markdown",
   "id": "bc2c6d64",
   "metadata": {},
   "source": [
    "Columns are in the desired format"
   ]
  },
  {
   "cell_type": "markdown",
   "id": "5903526b",
   "metadata": {},
   "source": [
    "### Checking Duplicates"
   ]
  },
  {
   "cell_type": "code",
   "execution_count": 40,
   "id": "d83c875a",
   "metadata": {},
   "outputs": [
    {
     "name": "stdout",
     "output_type": "stream",
     "text": [
      "26707\n"
     ]
    },
    {
     "data": {
      "text/plain": [
       "22591"
      ]
     },
     "execution_count": 40,
     "metadata": {},
     "output_type": "execute_result"
    }
   ],
   "source": [
    "#Checking there duplicates in training set\n",
    "#not adding respondent id since there would be no duplicates\n",
    "col = [\"age_group\", \"education\", \"income_poverty\", \"employment_status\",\n",
    "    \"race\", \"sex\", \"marital_status\", \"rent_or_own\"]\n",
    "print(train_features_df.shape[0])\n",
    "train_features_df[col].duplicated().sum()"
   ]
  },
  {
   "cell_type": "code",
   "execution_count": 41,
   "id": "3cde12f3",
   "metadata": {},
   "outputs": [
    {
     "name": "stdout",
     "output_type": "stream",
     "text": [
      "26707\n"
     ]
    }
   ],
   "source": [
    "train_features_df[col].drop_duplicates(inplace=True)\n",
    "print(train_features_df.shape[0])"
   ]
  },
  {
   "cell_type": "code",
   "execution_count": 42,
   "id": "e3471d1c",
   "metadata": {},
   "outputs": [
    {
     "name": "stdout",
     "output_type": "stream",
     "text": [
      "26708\n"
     ]
    },
    {
     "data": {
      "text/plain": [
       "22639"
      ]
     },
     "execution_count": 42,
     "metadata": {},
     "output_type": "execute_result"
    }
   ],
   "source": [
    "#Checking there duplicates in testing set\n",
    "#not adding respondent id since there would be no duplicates\n",
    "col = [\"age_group\", \"education\", \"income_poverty\", \"employment_status\",\n",
    "    \"race\", \"sex\", \"marital_status\", \"rent_or_own\"]\n",
    "test_features_df = test_features_df[col]\n",
    "print(test_features_df.shape[0])\n",
    "test_features_df.duplicated().sum()"
   ]
  },
  {
   "cell_type": "code",
   "execution_count": 43,
   "id": "73550460",
   "metadata": {},
   "outputs": [
    {
     "name": "stdout",
     "output_type": "stream",
     "text": [
      "4069\n"
     ]
    }
   ],
   "source": [
    "test_features_df.drop_duplicates(subset=col,inplace=True)\n",
    "print(test_features_df.shape[0])"
   ]
  },
  {
   "cell_type": "markdown",
   "id": "c953cbaf",
   "metadata": {},
   "source": [
    "### Feature engineering"
   ]
  },
  {
   "cell_type": "code",
   "execution_count": null,
   "id": "8919d4a3",
   "metadata": {},
   "outputs": [],
   "source": []
  },
  {
   "cell_type": "markdown",
   "id": "76b4a8b8",
   "metadata": {},
   "source": [
    "### Checking Outliers"
   ]
  },
  {
   "cell_type": "code",
   "execution_count": 44,
   "id": "0de3bedf",
   "metadata": {},
   "outputs": [],
   "source": [
    "numeric_df =train_features_df.select_dtypes(include = ['number'])"
   ]
  },
  {
   "cell_type": "code",
   "execution_count": 45,
   "id": "80e0efa0",
   "metadata": {},
   "outputs": [
    {
     "data": {
      "image/png": "[encoded data removed]",
      "text/plain": [
       "<Figure size 864x360 with 1 Axes>"
      ]
     },
     "metadata": {
      "needs_background": "light"
     },
     "output_type": "display_data"
    }
   ],
   "source": [
    "#calculate the number of fig to fit height \n",
    "grid=(numeric_df.shape[1]+1)//2 \n",
    "#allocating each plot a height of 5\n",
    "plt.figure(figsize=(12, grid * 5))\n",
    "\n",
    "count=0\n",
    "for col in numeric_df:\n",
    "    count += 1 \n",
    "    plt.subplot(grid,2,count)\n",
    "    sns.boxplot(y=train_features_df[col]) "
   ]
  },
  {
   "cell_type": "markdown",
   "id": "f8822ba1",
   "metadata": {},
   "source": [
    "### Saving Dataset"
   ]
  },
  {
   "cell_type": "code",
   "execution_count": 46,
   "id": "b26b7df8",
   "metadata": {},
   "outputs": [],
   "source": [
    "train_df = pd.merge(train_features_df, train_labels_df, on=\"respondent_id\")"
   ]
  },
  {
   "cell_type": "code",
   "execution_count": 47,
   "id": "b296e07c",
   "metadata": {},
   "outputs": [],
   "source": [
    "train_df.to_csv(\"train_clean.csv\")"
   ]
  },
  {
   "cell_type": "markdown",
   "id": "83f70580",
   "metadata": {},
   "source": [
    "# Explanatory Analysis"
   ]
  },
  {
   "cell_type": "markdown",
   "id": "1c762e20",
   "metadata": {},
   "source": [
    "## Univariate Analysis"
   ]
  },
  {
   "cell_type": "code",
   "execution_count": 48,
   "id": "69c08b4b",
   "metadata": {},
   "outputs": [
    {
     "data": {
      "image/png": "[encoded data removed]",
      "text/plain": [
       "<Figure size 432x288 with 1 Axes>"
      ]
     },
     "metadata": {
      "needs_background": "light"
     },
     "output_type": "display_data"
    }
   ],
   "source": [
    "age_count =  train_df['age_group'].value_counts()\n",
    "age_count.plot(kind=\"bar\")\n",
    "plt.ylabel('No of Respondents')\n",
    "plt.xticks(rotation=45)\n",
    "plt.xlabel('Age Group')\n",
    "plt.title(\"Number of Respondents to Age Group\")\n",
    "plt.show()"
   ]
  },
  {
   "cell_type": "markdown",
   "id": "156e71fb",
   "metadata": {},
   "source": [
    "**65+ years** are the most respondents while **35-44 Years** are the least"
   ]
  },
  {
   "cell_type": "code",
   "execution_count": 49,
   "id": "8e85c3de",
   "metadata": {},
   "outputs": [
    {
     "data": {
      "image/png": "[encoded data removed]",
      "text/plain": [
       "<Figure size 432x288 with 1 Axes>"
      ]
     },
     "metadata": {
      "needs_background": "light"
     },
     "output_type": "display_data"
    }
   ],
   "source": [
    "education_count =  train_df['education'].value_counts()\n",
    "sns.countplot(x=train_df['education'],order=education_count.index,palette='Blues_r')\n",
    "plt.ylabel('No of Respondents')\n",
    "plt.xticks(rotation=45)\n",
    "plt.xlabel('Education level')\n",
    "plt.title(\"Number of Respondents to Education Level\")\n",
    "plt.show()"
   ]
  },
  {
   "cell_type": "markdown",
   "id": "2640d493",
   "metadata": {},
   "source": [
    "The survey had many **College Graduate** than other level.With the least be **<12 Years**"
   ]
  },
  {
   "cell_type": "code",
   "execution_count": 50,
   "id": "b9a875b5",
   "metadata": {},
   "outputs": [
    {
     "data": {
      "image/png": "[encoded data removed]",
      "text/plain": [
       "<Figure size 432x288 with 1 Axes>"
      ]
     },
     "metadata": {
      "needs_background": "light"
     },
     "output_type": "display_data"
    }
   ],
   "source": [
    "income_poverty_count =  train_df['income_poverty'].value_counts()\n",
    "sns.countplot(x=train_df['income_poverty'],order=income_poverty_count.index,palette='Blues_r')\n",
    "plt.ylabel('No of Respondents')\n",
    "plt.xticks(rotation=45)\n",
    "plt.xlabel('Income Poverty level')\n",
    "plt.title(\"Number of Respondents to Income Poverty Level\")\n",
    "plt.show()"
   ]
  },
  {
   "cell_type": "markdown",
   "id": "3b7ea5f7",
   "metadata": {},
   "source": [
    "The survey had many **Above Poverty** respondents than other level.With the least be **Below Poverty**"
   ]
  },
  {
   "cell_type": "code",
   "execution_count": 51,
   "id": "762d4c30",
   "metadata": {},
   "outputs": [
    {
     "data": {
      "image/png": "[encoded data removed]",
      "text/plain": [
       "<Figure size 432x288 with 1 Axes>"
      ]
     },
     "metadata": {
      "needs_background": "light"
     },
     "output_type": "display_data"
    }
   ],
   "source": [
    "employment_status_count =  train_df['employment_status'].value_counts()\n",
    "sns.countplot(x=train_df['employment_status'],order=employment_status_count.index,palette='Blues_r')\n",
    "plt.ylabel('No of Respondents')\n",
    "plt.xticks(rotation=45)\n",
    "plt.xlabel('Employment Status level')\n",
    "plt.title(\"Number of Respondents to Employment Status Level\")\n",
    "plt.show()"
   ]
  },
  {
   "cell_type": "markdown",
   "id": "81d1f85b",
   "metadata": {},
   "source": [
    "The survey had many **Employed** respondents than other level.With the least be **Unemployed**"
   ]
  },
  {
   "cell_type": "code",
   "execution_count": 52,
   "id": "83a3f52f",
   "metadata": {},
   "outputs": [
    {
     "data": {
      "image/png": "[encoded data removed]",
      "text/plain": [
       "<Figure size 432x288 with 1 Axes>"
      ]
     },
     "metadata": {
      "needs_background": "light"
     },
     "output_type": "display_data"
    }
   ],
   "source": [
    "race_count =  train_df['race'].value_counts()\n",
    "sns.countplot(x=train_df['race'],order=race_count.index,palette='Blues_r')\n",
    "plt.ylabel('No of Respondents')\n",
    "plt.xticks(rotation=45)\n",
    "plt.xlabel('Race')\n",
    "plt.title(\"Number of Respondents to Race\")\n",
    "plt.show()"
   ]
  },
  {
   "cell_type": "markdown",
   "id": "f66adbda",
   "metadata": {},
   "source": [
    "The survey had many **White** respondents than other level.With the least be **Other or Multiple**"
   ]
  },
  {
   "cell_type": "code",
   "execution_count": 53,
   "id": "eace32d9",
   "metadata": {},
   "outputs": [
    {
     "data": {
      "image/png": "[encoded data removed]",
      "text/plain": [
       "<Figure size 432x288 with 1 Axes>"
      ]
     },
     "metadata": {
      "needs_background": "light"
     },
     "output_type": "display_data"
    }
   ],
   "source": [
    "sex_count =  train_df['sex'].value_counts()\n",
    "sns.countplot(x=train_df['sex'],order=sex_count.index,palette='Blues_r')\n",
    "plt.ylabel('No of Respondents')\n",
    "plt.xticks(rotation=45)\n",
    "plt.xlabel('Sex')\n",
    "plt.title(\"Number of Respondents to Sex\")\n",
    "plt.show()"
   ]
  },
  {
   "cell_type": "markdown",
   "id": "5d2ec604",
   "metadata": {},
   "source": [
    "The survey had many **Female** respondents.With the least be **Male**"
   ]
  },
  {
   "cell_type": "code",
   "execution_count": 54,
   "id": "3337c6b1",
   "metadata": {
    "scrolled": true
   },
   "outputs": [
    {
     "data": {
      "image/png": "[encoded data removed]",
      "text/plain": [
       "<Figure size 432x288 with 1 Axes>"
      ]
     },
     "metadata": {
      "needs_background": "light"
     },
     "output_type": "display_data"
    }
   ],
   "source": [
    "marital_status_count =  train_df['marital_status'].value_counts()\n",
    "sns.countplot(x=train_df['marital_status'],order=marital_status_count.index,palette='Blues_r')\n",
    "plt.ylabel('No of Respondents')\n",
    "plt.xticks(rotation=45)\n",
    "plt.xlabel('marital_status')\n",
    "plt.title(\"Number of Respondents to marital_status\")\n",
    "plt.show()"
   ]
  },
  {
   "cell_type": "markdown",
   "id": "c5f84135",
   "metadata": {},
   "source": [
    "The survey had many **Married** respondents than other level.With the least be **Not Married**"
   ]
  },
  {
   "cell_type": "code",
   "execution_count": 55,
   "id": "385fb988",
   "metadata": {},
   "outputs": [
    {
     "data": {
      "image/png": "[encoded data removed]",
      "text/plain": [
       "<Figure size 432x288 with 1 Axes>"
      ]
     },
     "metadata": {
      "needs_background": "light"
     },
     "output_type": "display_data"
    }
   ],
   "source": [
    "rent_or_own_count =  train_df['rent_or_own'].value_counts()\n",
    "sns.countplot(x=train_df['rent_or_own'],order=rent_or_own_count.index,palette='Blues_r')\n",
    "plt.ylabel('No of Respondents')\n",
    "plt.xticks(rotation=45)\n",
    "plt.xlabel('rent_or_own')\n",
    "plt.title(\"Number of Respondents to rent_or_own\")\n",
    "plt.show()"
   ]
  },
  {
   "cell_type": "markdown",
   "id": "b9766868",
   "metadata": {},
   "source": [
    "The survey had many **Own** respondents than other level.With the least be **Rent**"
   ]
  },
  {
   "cell_type": "code",
   "execution_count": 56,
   "id": "968b19d9",
   "metadata": {},
   "outputs": [
    {
     "data": {
      "image/png": "[encoded data removed]",
      "text/plain": [
       "<Figure size 432x288 with 1 Axes>"
      ]
     },
     "metadata": {
      "needs_background": "light"
     },
     "output_type": "display_data"
    }
   ],
   "source": [
    "seasonal_vaccine_count =  train_df['seasonal_vaccine'].value_counts()\n",
    "sns.countplot(x=train_df['seasonal_vaccine'],order=seasonal_vaccine_count.index,palette='Blues_r')\n",
    "plt.ylabel('No of Respondents')\n",
    "plt.xticks(rotation=45)\n",
    "plt.xlabel('seasonal_vaccine')\n",
    "plt.title(\"Number of Respondents to seasonal_vaccine\")\n",
    "plt.show()"
   ]
  },
  {
   "cell_type": "markdown",
   "id": "dd24f81a",
   "metadata": {},
   "source": [
    "The survey had many **not vaccinated** respondents for seasonal vaccine.With the least be **vaccinated**"
   ]
  },
  {
   "cell_type": "code",
   "execution_count": 57,
   "id": "36f95cce",
   "metadata": {},
   "outputs": [
    {
     "ename": "SyntaxError",
     "evalue": "invalid syntax (Temp/ipykernel_30840/3216902586.py, line 3)",
     "output_type": "error",
     "traceback": [
      "\u001b[1;36m  File \u001b[1;32m\"C:\\Users\\Mich\\AppData\\Local\\Temp/ipykernel_30840/3216902586.py\"\u001b[1;36m, line \u001b[1;32m3\u001b[0m\n\u001b[1;33m    plt.ylabel('No of Respondents')The survey had many **not vaccinated** respondents than other level.With the least be **vaccinated**\u001b[0m\n\u001b[1;37m                                   ^\u001b[0m\n\u001b[1;31mSyntaxError\u001b[0m\u001b[1;31m:\u001b[0m invalid syntax\n"
     ]
    }
   ],
   "source": [
    "h1n1_vaccine_count =  train_df['h1n1_vaccine'].value_counts()\n",
    "sns.countplot(x=train_df['h1n1_vaccine'],order=h1n1_vaccine_count.index,palette='Blues_r')\n",
    "plt.ylabel('No of Respondents')The survey had many **not vaccinated** respondents than other level.With the least be **vaccinated**\n",
    "plt.xticks(rotation=45)\n",
    "plt.xlabel('h1n1_vaccine')\n",
    "plt.title(\"Number of Respondents to h1n1_vaccine\")\n",
    "plt.show()"
   ]
  },
  {
   "cell_type": "markdown",
   "id": "57478345",
   "metadata": {},
   "source": [
    "The survey had many **not vaccinated** respondents for h1n1 vaccine.With the least be **vaccinated**"
   ]
  },
  {
   "cell_type": "markdown",
   "id": "44328531",
   "metadata": {},
   "source": [
    "## Bivariate Analysis"
   ]
  },
  {
   "cell_type": "code",
   "execution_count": null,
   "id": "e8a85bd7",
   "metadata": {},
   "outputs": [],
   "source": []
  },
  {
   "cell_type": "markdown",
   "id": "efef9835",
   "metadata": {},
   "source": [
    "## Multivariate Analysis"
   ]
  },
  {
   "cell_type": "code",
   "execution_count": null,
   "id": "25da81a8",
   "metadata": {},
   "outputs": [],
   "source": []
  },
  {
   "cell_type": "markdown",
   "id": "50b5b72b",
   "metadata": {},
   "source": [
    "# Preprocessing"
   ]
  },
  {
   "cell_type": "markdown",
   "id": "eaaba87d",
   "metadata": {},
   "source": [
    "# Modeling"
   ]
  },
  {
   "cell_type": "code",
   "execution_count": null,
   "id": "e2020b5d",
   "metadata": {},
   "outputs": [],
   "source": []
  },
  {
   "cell_type": "markdown",
   "id": "6e0ddf48",
   "metadata": {},
   "source": [
    "# Evaluation"
   ]
  },
  {
   "cell_type": "code",
   "execution_count": null,
   "id": "0011a6c1",
   "metadata": {},
   "outputs": [],
   "source": []
  },
  {
   "cell_type": "markdown",
   "id": "37e89752",
   "metadata": {},
   "source": [
    "# Conclusion"
   ]
  },
  {
   "cell_type": "code",
   "execution_count": null,
   "id": "0af2956b",
   "metadata": {},
   "outputs": [],
   "source": []
  }
 ],
 "metadata": {
  "kernelspec": {
   "display_name": "Python 3 (ipykernel)",
   "language": "python",
   "name": "python3"
  },
  "language_info": {
   "codemirror_mode": {
    "name": "ipython",
    "version": 3
   },
   "file_extension": ".py",
   "mimetype": "text/x-python",
   "name": "python",
   "nbconvert_exporter": "python",
   "pygments_lexer": "ipython3",
   "version": "3.9.7"
  },
  "toc": {
   "base_numbering": 1,
   "nav_menu": {},
   "number_sections": true,
   "sideBar": true,
   "skip_h1_title": false,
   "title_cell": "Table of Contents",
   "title_sidebar": "Contents",
   "toc_cell": false,
   "toc_position": {},
   "toc_section_display": true,
   "toc_window_display": false
  }
 },
 "nbformat": 4,
 "nbformat_minor": 5
}
